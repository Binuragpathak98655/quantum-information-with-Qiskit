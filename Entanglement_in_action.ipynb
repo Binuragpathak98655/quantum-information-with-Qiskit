{
 "cells": [
  {
   "cell_type": "markdown",
   "id": "7eecb852-b0e4-4754-8fa6-96d7f5d015b9",
   "metadata": {},
   "source": [
    "Teleportation\n",
    "\n",
    "\n",
    "Quantum teleportation, or just teleportation for short, is a protocol where a sender (Alice) transmits a qubit to a receiver (Bob) by making use of a shared entangled quantum state (one e-bit, to be specific) along with two bits of classical communication. The name teleportation is meant to be suggestive of the concept in science fiction where matter is transported from one location to another by a futuristic process, but it must be understood that matter is not teleported in quantum teleportation — what is actually teleported is quantum information.\n",
    "\n"
   ]
  },
  {
   "cell_type": "markdown",
   "id": "cbf0ceab-6b9b-448e-af47-a5b96c2aa31e",
   "metadata": {},
   "source": [
    "Qiskit implementation"
   ]
  },
  {
   "cell_type": "code",
   "execution_count": 23,
   "id": "cab72059-d212-4ca7-b99e-b16adbd6efc7",
   "metadata": {},
   "outputs": [],
   "source": [
    "# Required imports\n",
    "\n",
    "from qiskit import QuantumCircuit, QuantumRegister, ClassicalRegister\n",
    "from qiskit_aer import AerSimulator\n",
    "from qiskit.visualization import plot_histogram\n",
    "from qiskit.result import marginal_distribution\n",
    "from qiskit.circuit.library import UGate\n",
    "from numpy import pi, random"
   ]
  },
  {
   "cell_type": "markdown",
   "id": "7849f45b-0689-4fa4-9703-47ce2197ceb5",
   "metadata": {},
   "source": [
    "Here is a quantum circuit implementation of the teleportation protocol."
   ]
  },
  {
   "cell_type": "code",
   "execution_count": 24,
   "id": "f0f8b26d-0ca9-41af-8321-19044121f311",
   "metadata": {},
   "outputs": [
    {
     "data": {
      "text/html": [
       "<pre style=\"word-wrap: normal;white-space: pre;background: #fff0;line-height: 1.1;font-family: &quot;Courier New&quot;,Courier,monospace\">                ░      ┌───┐ ░    ┌─┐ ░                                     »\n",
       "  Q: ───────────░───■──┤ H ├─░────┤M├─░─────────────────────────────────────»\n",
       "     ┌───┐      ░ ┌─┴─┐└───┘ ░ ┌─┐└╥┘ ░                                     »\n",
       "  A: ┤ H ├──■───░─┤ X ├──────░─┤M├─╫──░─────────────────────────────────────»\n",
       "     └───┘┌─┴─┐ ░ └───┘      ░ └╥┘ ║  ░ ┌────── ┌───┐ ───────┐ ┌────── ┌───┐»\n",
       "  B: ─────┤ X ├─░────────────░──╫──╫──░─┤ If-0  ┤ X ├  End-0 ├─┤ If-0  ┤ Z ├»\n",
       "          └───┘ ░            ░  ║  ║  ░ └──╥─── └───┘ ───────┘ └──╥─── └───┘»\n",
       "                                ║  ║    ┌──╨──┐                   ║         »\n",
       "a: 1/═══════════════════════════╩══╬════╡ 0x1 ╞═══════════════════╬═════════»\n",
       "                                0  ║    └─────┘                ┌──╨──┐      »\n",
       "b: 1/══════════════════════════════╩═══════════════════════════╡ 0x1 ╞══════»\n",
       "                                   0                           └─────┘      »\n",
       "«               \n",
       "«  Q: ──────────\n",
       "«               \n",
       "«  A: ──────────\n",
       "«      ───────┐ \n",
       "«  B:   End-0 ├─\n",
       "«      ───────┘ \n",
       "«a: 1/══════════\n",
       "«               \n",
       "«b: 1/══════════\n",
       "«               </pre>"
      ],
      "text/plain": [
       "                ░      ┌───┐ ░    ┌─┐ ░                                     »\n",
       "  Q: ───────────░───■──┤ H ├─░────┤M├─░─────────────────────────────────────»\n",
       "     ┌───┐      ░ ┌─┴─┐└───┘ ░ ┌─┐└╥┘ ░                                     »\n",
       "  A: ┤ H ├──■───░─┤ X ├──────░─┤M├─╫──░─────────────────────────────────────»\n",
       "     └───┘┌─┴─┐ ░ └───┘      ░ └╥┘ ║  ░ ┌────── ┌───┐ ───────┐ ┌────── ┌───┐»\n",
       "  B: ─────┤ X ├─░────────────░──╫──╫──░─┤ If-0  ┤ X ├  End-0 ├─┤ If-0  ┤ Z ├»\n",
       "          └───┘ ░            ░  ║  ║  ░ └──╥─── └───┘ ───────┘ └──╥─── └───┘»\n",
       "                                ║  ║    ┌──╨──┐                   ║         »\n",
       "a: 1/═══════════════════════════╩══╬════╡ 0x1 ╞═══════════════════╬═════════»\n",
       "                                0  ║    └─────┘                ┌──╨──┐      »\n",
       "b: 1/══════════════════════════════╩═══════════════════════════╡ 0x1 ╞══════»\n",
       "                                   0                           └─────┘      »\n",
       "«               \n",
       "«  Q: ──────────\n",
       "«               \n",
       "«  A: ──────────\n",
       "«      ───────┐ \n",
       "«  B:   End-0 ├─\n",
       "«      ───────┘ \n",
       "«a: 1/══════════\n",
       "«               \n",
       "«b: 1/══════════\n",
       "«               "
      ]
     },
     "metadata": {},
     "output_type": "display_data"
    }
   ],
   "source": [
    "qubit = QuantumRegister(1, \"Q\")\n",
    "ebit0 = QuantumRegister(1, \"A\")\n",
    "ebit1 = QuantumRegister(1, \"B\")\n",
    "a = ClassicalRegister(1, \"a\")\n",
    "b = ClassicalRegister(1, \"b\")\n",
    "\n",
    "protocol = QuantumCircuit(qubit, ebit0, ebit1, a, b)\n",
    "\n",
    "# Prepare ebit used for teleportation\n",
    "protocol.h(ebit0)\n",
    "protocol.cx(ebit0, ebit1)\n",
    "protocol.barrier()\n",
    "\n",
    "# Alice's operations\n",
    "protocol.cx(qubit, ebit0)\n",
    "protocol.h(qubit)\n",
    "protocol.barrier()\n",
    "\n",
    "# Alice measures and sends classical bits to Bob\n",
    "protocol.measure(ebit0, a)\n",
    "protocol.measure(qubit, b)\n",
    "protocol.barrier()\n",
    "\n",
    "# Bob uses the classical bits to conditionally apply gates\n",
    "with protocol.if_test((a, 1)):\n",
    "    protocol.x(ebit1)\n",
    "with protocol.if_test((b, 1)):\n",
    "    protocol.z(ebit1)\n",
    "\n",
    "display(protocol.draw())"
   ]
  },
  {
   "cell_type": "code",
   "execution_count": 25,
   "id": "7e407c9f-5437-4ecd-979a-f022e6f66883",
   "metadata": {},
   "outputs": [
    {
     "data": {
      "text/plain": [
       "array([[0.8969364 +0.j        , 0.37396079-0.23592038j],\n",
       "       [0.14548043-0.41754107j, 0.20233289+0.87381709j]])"
      ]
     },
     "metadata": {},
     "output_type": "display_data"
    }
   ],
   "source": [
    "random_gate = UGate(\n",
    "    theta=random.random() * 2 * pi,\n",
    "    phi=random.random() * 2 * pi,\n",
    "    lam=random.random() * 2 * pi,\n",
    ")\n",
    "\n",
    "display(ramdom_gate.to_matrix())"
   ]
  },
  {
   "cell_type": "markdown",
   "id": "24a9ee36-0d0b-4382-a07d-9e3ab1f12510",
   "metadata": {},
   "source": [
    "Now we'll create a new testing circuit that first applies our random gate to Q, then runs the teleportation circuit, and finally applies the inverse of our random gate to the qubit B and measures. The outcome should be 0 with certainty."
   ]
  },
  {
   "cell_type": "code",
   "execution_count": 26,
   "id": "407de938-9b87-4244-b77e-19fc2dc61d3d",
   "metadata": {},
   "outputs": [
    {
     "data": {
      "text/html": [
       "<pre style=\"word-wrap: normal;white-space: pre;background: #fff0;line-height: 1.1;font-family: &quot;Courier New&quot;,Courier,monospace\">          ┌──────────────────────────┐ ░            ░      ┌───┐ ░    ┌─┐ ░ »\n",
       "       Q: ┤ U(1.2719,0.15531,5.6815) ├─░────────────░───■──┤ H ├─░────┤M├─░─»\n",
       "          └──────────────────────────┘ ░ ┌───┐      ░ ┌─┴─┐└───┘ ░ ┌─┐└╥┘ ░ »\n",
       "       A: ─────────────────────────────░─┤ H ├──■───░─┤ X ├──────░─┤M├─╫──░─»\n",
       "                                       ░ └───┘┌─┴─┐ ░ └───┘      ░ └╥┘ ║  ░ »\n",
       "       B: ─────────────────────────────░──────┤ X ├─░────────────░──╫──╫──░─»\n",
       "                                       ░      └───┘ ░            ░  ║  ║  ░ »\n",
       "     a: 1/══════════════════════════════════════════════════════════╩══╬════»\n",
       "                                                                    0  ║    »\n",
       "     b: 1/═════════════════════════════════════════════════════════════╩════»\n",
       "                                                                       0    »\n",
       "Result: 1/══════════════════════════════════════════════════════════════════»\n",
       "                                                                            »\n",
       "«                                                         ░ »\n",
       "«       Q: ───────────────────────────────────────────────░─»\n",
       "«                                                         ░ »\n",
       "«       A: ───────────────────────────────────────────────░─»\n",
       "«          ┌────── ┌───┐ ───────┐ ┌────── ┌───┐ ───────┐  ░ »\n",
       "«       B: ┤ If-0  ┤ X ├  End-0 ├─┤ If-0  ┤ Z ├  End-0 ├──░─»\n",
       "«          └──╥─── └───┘ ───────┘ └──╥─── └───┘ ───────┘  ░ »\n",
       "«          ┌──╨──┐                   ║                      »\n",
       "«     a: 1/╡ 0x1 ╞═══════════════════╬══════════════════════»\n",
       "«          └─────┘                ┌──╨──┐                   »\n",
       "«     b: 1/═══════════════════════╡ 0x1 ╞═══════════════════»\n",
       "«                                 └─────┘                   »\n",
       "«Result: 1/═════════════════════════════════════════════════»\n",
       "«                                                           »\n",
       "«                                            \n",
       "«       Q: ──────────────────────────────────\n",
       "«                                            \n",
       "«       A: ──────────────────────────────────\n",
       "«          ┌─────────────────────────────┐┌─┐\n",
       "«       B: ┤ U(-1.2719,-5.6815,-0.15531) ├┤M├\n",
       "«          └─────────────────────────────┘└╥┘\n",
       "«     a: 1/════════════════════════════════╬═\n",
       "«                                          ║ \n",
       "«     b: 1/════════════════════════════════╬═\n",
       "«                                          ║ \n",
       "«Result: 1/════════════════════════════════╩═\n",
       "«                                          0 </pre>"
      ],
      "text/plain": [
       "          ┌──────────────────────────┐ ░            ░      ┌───┐ ░    ┌─┐ ░ »\n",
       "       Q: ┤ U(1.2719,0.15531,5.6815) ├─░────────────░───■──┤ H ├─░────┤M├─░─»\n",
       "          └──────────────────────────┘ ░ ┌───┐      ░ ┌─┴─┐└───┘ ░ ┌─┐└╥┘ ░ »\n",
       "       A: ─────────────────────────────░─┤ H ├──■───░─┤ X ├──────░─┤M├─╫──░─»\n",
       "                                       ░ └───┘┌─┴─┐ ░ └───┘      ░ └╥┘ ║  ░ »\n",
       "       B: ─────────────────────────────░──────┤ X ├─░────────────░──╫──╫──░─»\n",
       "                                       ░      └───┘ ░            ░  ║  ║  ░ »\n",
       "     a: 1/══════════════════════════════════════════════════════════╩══╬════»\n",
       "                                                                    0  ║    »\n",
       "     b: 1/═════════════════════════════════════════════════════════════╩════»\n",
       "                                                                       0    »\n",
       "Result: 1/══════════════════════════════════════════════════════════════════»\n",
       "                                                                            »\n",
       "«                                                         ░ »\n",
       "«       Q: ───────────────────────────────────────────────░─»\n",
       "«                                                         ░ »\n",
       "«       A: ───────────────────────────────────────────────░─»\n",
       "«          ┌────── ┌───┐ ───────┐ ┌────── ┌───┐ ───────┐  ░ »\n",
       "«       B: ┤ If-0  ┤ X ├  End-0 ├─┤ If-0  ┤ Z ├  End-0 ├──░─»\n",
       "«          └──╥─── └───┘ ───────┘ └──╥─── └───┘ ───────┘  ░ »\n",
       "«          ┌──╨──┐                   ║                      »\n",
       "«     a: 1/╡ 0x1 ╞═══════════════════╬══════════════════════»\n",
       "«          └─────┘                ┌──╨──┐                   »\n",
       "«     b: 1/═══════════════════════╡ 0x1 ╞═══════════════════»\n",
       "«                                 └─────┘                   »\n",
       "«Result: 1/═════════════════════════════════════════════════»\n",
       "«                                                           »\n",
       "«                                            \n",
       "«       Q: ──────────────────────────────────\n",
       "«                                            \n",
       "«       A: ──────────────────────────────────\n",
       "«          ┌─────────────────────────────┐┌─┐\n",
       "«       B: ┤ U(-1.2719,-5.6815,-0.15531) ├┤M├\n",
       "«          └─────────────────────────────┘└╥┘\n",
       "«     a: 1/════════════════════════════════╬═\n",
       "«                                          ║ \n",
       "«     b: 1/════════════════════════════════╬═\n",
       "«                                          ║ \n",
       "«Result: 1/════════════════════════════════╩═\n",
       "«                                          0 "
      ]
     },
     "metadata": {},
     "output_type": "display_data"
    }
   ],
   "source": [
    "# Create a new circuit includeing the same bits and qubits used in the teleportaiton protocal.\n",
    "\n",
    "test = QuantumCircuit(qubit, ebit0, ebit1, a, b)\n",
    "\n",
    "#Start with the randomlu selected gate on Q\n",
    "\n",
    "test.append(random_gate, qubit)\n",
    "test.barrier()\n",
    "\n",
    "#Append the entire telepotion protocal from above.\n",
    "test = test.compose(protocol)\n",
    "test.barrier()\n",
    "\n",
    "# Finally, apply the inverse of the random unitary to B and measure.\n",
    "\n",
    "test.append(random_gate.inverse(), ebit1)\n",
    "\n",
    "result = ClassicalRegister(1, \"Result\")\n",
    "test.add_register(result)\n",
    "test.measure(ebit1, result)\n",
    "\n",
    "display(test.draw())\n"
   ]
  },
  {
   "cell_type": "markdown",
   "id": "c74d6674-43cf-402b-bffe-bbc0d6680d29",
   "metadata": {},
   "source": [
    "let's run the Aer simulator on this circuit and plot a histogram of the outputs. We'll see the statistics for all three classical bits: the bottom/leftmost bit should always be \n",
    "\r",
    ",\r\n",
    "0, indicating that the qub\r\n",
    "�\r\n",
    "Q was successfully teleportedo\r\n",
    "�\r\n",
    ",\r\n",
    "B, while the other two bits should be roughly uniform."
   ]
  },
  {
   "cell_type": "code",
   "execution_count": 27,
   "id": "7179cdd1-92d9-42a0-bb4f-9aeb2671e103",
   "metadata": {},
   "outputs": [
    {
     "data": {
      "image/png": "[encoded data removed]",
      "text/plain": [
       "<Figure size 700x500 with 1 Axes>"
      ]
     },
     "metadata": {},
     "output_type": "display_data"
    }
   ],
   "source": [
    "result = AerSimulator().run(test).result()\n",
    "statistics = result.get_counts()\n",
    "display(plot_histogram(statistics))"
   ]
  },
  {
   "cell_type": "code",
   "execution_count": 28,
   "id": "f2384409-8af5-423d-a290-2060047e2ce4",
   "metadata": {},
   "outputs": [
    {
     "data": {
      "image/png": "[encoded data removed]",
      "text/plain": [
       "<Figure size 700x500 with 1 Axes>"
      ]
     },
     "metadata": {},
     "output_type": "display_data"
    }
   ],
   "source": [
    "filtered_statistics = marginal_distribution(statistics, [2])\n",
    "display(plot_histogram(filtered_statistics))"
   ]
  },
  {
   "cell_type": "markdown",
   "id": "d9d56c9e-9021-42d7-876d-ffb440c3ca65",
   "metadata": {},
   "source": [
    "Superdense coding\n",
    "\n",
    "\n",
    "Superdense coding is a protocol that, in some sense, achieves a complementary aim to teleportation. Rather than allowing for the transmission of one qubit using two classical bits of communication (at the cost of one e-bit of entanglement), it allows for the transmission of two classical bits using one qubit of quantum communication (again, at the cost of one e-bit of entanglement)."
   ]
  },
  {
   "cell_type": "markdown",
   "id": "5db0bdde-a9a0-4921-a0bd-921102d2a03b",
   "metadata": {},
   "source": [
    "Qiskit implementation"
   ]
  },
  {
   "cell_type": "code",
   "execution_count": 34,
   "id": "3d4389f3-7d92-4a4c-b2b4-389cf84066f7",
   "metadata": {},
   "outputs": [],
   "source": [
    "# Required imports\n",
    "\n",
    "from qiskit import QuantumCircuit, QuantumRegister, ClassicalRegister\n"
   ]
  },
  {
   "cell_type": "code",
   "execution_count": 40,
   "id": "09aa7b0c-36f8-46dd-ac34-9926cd5a8e1f",
   "metadata": {},
   "outputs": [
    {
     "ename": "ImportError",
     "evalue": "cannot import name 'BaseEstimatorV2' from 'qiskit.primitives.base' (C:\\Users\\binu\\anaconda3\\envs\\qiskit\\Lib\\site-packages\\qiskit\\primitives\\base\\__init__.py)",
     "output_type": "error",
     "traceback": [
      "\u001b[1;31m---------------------------------------------------------------------------\u001b[0m",
      "\u001b[1;31mImportError\u001b[0m                               Traceback (most recent call last)",
      "Cell \u001b[1;32mIn[40], line 1\u001b[0m\n\u001b[1;32m----> 1\u001b[0m \u001b[38;5;28;01mfrom\u001b[39;00m \u001b[38;5;21;01mqiskit_aer\u001b[39;00m\u001b[38;5;21;01m.\u001b[39;00m\u001b[38;5;21;01mprimitives\u001b[39;00m \u001b[38;5;28;01mimport\u001b[39;00m Sampler\n",
      "File \u001b[1;32m~\\anaconda3\\envs\\qiskit\\Lib\\site-packages\\qiskit_aer\\primitives\\__init__.py:35\u001b[0m\n\u001b[0;32m     13\u001b[0m \u001b[38;5;124;03m\"\"\"\u001b[39;00m\n\u001b[0;32m     14\u001b[0m \u001b[38;5;124;03m===================================================\u001b[39;00m\n\u001b[0;32m     15\u001b[0m \u001b[38;5;124;03mPrimitives (:mod:`qiskit_aer.primitives`)\u001b[39;00m\n\u001b[1;32m   (...)\u001b[0m\n\u001b[0;32m     31\u001b[0m \u001b[38;5;124;03m    Estimator\u001b[39;00m\n\u001b[0;32m     32\u001b[0m \u001b[38;5;124;03m\"\"\"\u001b[39;00m\n\u001b[0;32m     34\u001b[0m \u001b[38;5;28;01mfrom\u001b[39;00m \u001b[38;5;21;01m.\u001b[39;00m\u001b[38;5;21;01mestimator\u001b[39;00m \u001b[38;5;28;01mimport\u001b[39;00m Estimator\n\u001b[1;32m---> 35\u001b[0m \u001b[38;5;28;01mfrom\u001b[39;00m \u001b[38;5;21;01m.\u001b[39;00m\u001b[38;5;21;01mestimator_v2\u001b[39;00m \u001b[38;5;28;01mimport\u001b[39;00m EstimatorV2\n\u001b[0;32m     36\u001b[0m \u001b[38;5;28;01mfrom\u001b[39;00m \u001b[38;5;21;01m.\u001b[39;00m\u001b[38;5;21;01msampler\u001b[39;00m \u001b[38;5;28;01mimport\u001b[39;00m Sampler\n\u001b[0;32m     37\u001b[0m \u001b[38;5;28;01mfrom\u001b[39;00m \u001b[38;5;21;01m.\u001b[39;00m\u001b[38;5;21;01msampler_v2\u001b[39;00m \u001b[38;5;28;01mimport\u001b[39;00m SamplerV2\n",
      "File \u001b[1;32m~\\anaconda3\\envs\\qiskit\\Lib\\site-packages\\qiskit_aer\\primitives\\estimator_v2.py:21\u001b[0m\n\u001b[0;32m     18\u001b[0m \u001b[38;5;28;01mfrom\u001b[39;00m \u001b[38;5;21;01mdataclasses\u001b[39;00m \u001b[38;5;28;01mimport\u001b[39;00m dataclass, field\n\u001b[0;32m     20\u001b[0m \u001b[38;5;28;01mimport\u001b[39;00m \u001b[38;5;21;01mnumpy\u001b[39;00m \u001b[38;5;28;01mas\u001b[39;00m \u001b[38;5;21;01mnp\u001b[39;00m\n\u001b[1;32m---> 21\u001b[0m \u001b[38;5;28;01mfrom\u001b[39;00m \u001b[38;5;21;01mqiskit\u001b[39;00m\u001b[38;5;21;01m.\u001b[39;00m\u001b[38;5;21;01mprimitives\u001b[39;00m\u001b[38;5;21;01m.\u001b[39;00m\u001b[38;5;21;01mbase\u001b[39;00m \u001b[38;5;28;01mimport\u001b[39;00m BaseEstimatorV2\n\u001b[0;32m     22\u001b[0m \u001b[38;5;28;01mfrom\u001b[39;00m \u001b[38;5;21;01mqiskit\u001b[39;00m\u001b[38;5;21;01m.\u001b[39;00m\u001b[38;5;21;01mprimitives\u001b[39;00m\u001b[38;5;21;01m.\u001b[39;00m\u001b[38;5;21;01mcontainers\u001b[39;00m \u001b[38;5;28;01mimport\u001b[39;00m EstimatorPubLike, PrimitiveResult, PubResult\n\u001b[0;32m     23\u001b[0m \u001b[38;5;28;01mfrom\u001b[39;00m \u001b[38;5;21;01mqiskit\u001b[39;00m\u001b[38;5;21;01m.\u001b[39;00m\u001b[38;5;21;01mprimitives\u001b[39;00m\u001b[38;5;21;01m.\u001b[39;00m\u001b[38;5;21;01mcontainers\u001b[39;00m\u001b[38;5;21;01m.\u001b[39;00m\u001b[38;5;21;01mestimator_pub\u001b[39;00m \u001b[38;5;28;01mimport\u001b[39;00m EstimatorPub\n",
      "\u001b[1;31mImportError\u001b[0m: cannot import name 'BaseEstimatorV2' from 'qiskit.primitives.base' (C:\\Users\\binu\\anaconda3\\envs\\qiskit\\Lib\\site-packages\\qiskit\\primitives\\base\\__init__.py)"
     ]
    }
   ],
   "source": [
    "from qiskit_aer.primitives import Sampler\n"
   ]
  },
  {
   "cell_type": "code",
   "execution_count": 36,
   "id": "4bc5f185-6f20-48e6-9e4f-9294bb957dda",
   "metadata": {},
   "outputs": [],
   "source": []
  },
  {
   "cell_type": "code",
   "execution_count": 37,
   "id": "56ee5d51-73c2-430b-abc1-782635b53e66",
   "metadata": {},
   "outputs": [],
   "source": [
    "from qiskit.visualization import plot_histogram"
   ]
  },
  {
   "cell_type": "code",
   "execution_count": null,
   "id": "6202d78e-d9c9-44a3-a4c8-bfe330790f9e",
   "metadata": {},
   "outputs": [],
   "source": []
  }
 ],
 "metadata": {
  "kernelspec": {
   "display_name": "Python 3 (ipykernel)",
   "language": "python",
   "name": "python3"
  },
  "language_info": {
   "codemirror_mode": {
    "name": "ipython",
    "version": 3
   },
   "file_extension": ".py",
   "mimetype": "text/x-python",
   "name": "python",
   "nbconvert_exporter": "python",
   "pygments_lexer": "ipython3",
   "version": "3.11.5"
  }
 },
 "nbformat": 4,
 "nbformat_minor": 5
}
